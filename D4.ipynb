{
  "nbformat": 4,
  "nbformat_minor": 0,
  "metadata": {
    "colab": {
      "name": "D4.ipynb",
      "provenance": [],
      "collapsed_sections": [],
      "mount_file_id": "1EQdEqnCPjqO4bMCjH6xTL2NJ7x_chNfy",
      "authorship_tag": "ABX9TyOXt93jdvkjQLZxHxldoKPU",
      "include_colab_link": true
    },
    "kernelspec": {
      "name": "python3",
      "display_name": "Python 3"
    },
    "accelerator": "GPU"
  },
  "cells": [
    {
      "cell_type": "markdown",
      "metadata": {
        "id": "view-in-github",
        "colab_type": "text"
      },
      "source": [
        "<a href=\"https://colab.research.google.com/github/Edith1100/dw_matrix_road_sign/blob/master/D4.ipynb\" target=\"_parent\"><img src=\"https://colab.research.google.com/assets/colab-badge.svg\" alt=\"Open In Colab\"/></a>"
      ]
    },
    {
      "cell_type": "code",
      "metadata": {
        "id": "vTIN1rqv4SdW",
        "colab_type": "code",
        "outputId": "8a21f38f-b58d-495f-d407-77a9cf773979",
        "colab": {
          "base_uri": "https://localhost:8080/",
          "height": 53
        }
      },
      "source": [
        "import pandas as pd\n",
        "import numpy as np\n",
        "import os\n",
        "import datetime\n",
        "\n",
        "import tensorflow as tf\n",
        "from tensorflow.keras.models import Sequential\n",
        "from tensorflow.keras.layers import Conv2D, MaxPool2D, Dense, Flatten, Dropout\n",
        "\n",
        "from tensorflow.keras.utils import to_categorical\n",
        "\n",
        "%load_ext tensorboard\n",
        "\n",
        "import matplotlib.pyplot as plt\n",
        "from skimage import color, exposure\n",
        "from sklearn.metrics import accuracy_score"
      ],
      "execution_count": 0,
      "outputs": [
        {
          "output_type": "stream",
          "text": [
            "The tensorboard extension is already loaded. To reload it, use:\n",
            "  %reload_ext tensorboard\n"
          ],
          "name": "stdout"
        }
      ]
    },
    {
      "cell_type": "code",
      "metadata": {
        "id": "24oc_tHv4kXc",
        "colab_type": "code",
        "outputId": "8e6a85f4-67b3-4572-f202-87bc137969a2",
        "colab": {
          "base_uri": "https://localhost:8080/",
          "height": 35
        }
      },
      "source": [
        "cd 'drive/My Drive/Colab Notebooks/matrix/matrix three/dw_matrix_road_sign/'"
      ],
      "execution_count": 0,
      "outputs": [
        {
          "output_type": "stream",
          "text": [
            "/content/drive/My Drive/Colab Notebooks/matrix/matrix three/dw_matrix_road_sign\n"
          ],
          "name": "stdout"
        }
      ]
    },
    {
      "cell_type": "code",
      "metadata": {
        "id": "-aXn4Ap-5SLq",
        "colab_type": "code",
        "colab": {}
      },
      "source": [
        "train = pd.read_pickle('train.p')\n",
        "test = pd.read_pickle('test.p')\n",
        "\n",
        "X_train, y_train = train['features'], train['labels']\n",
        "X_test, y_test = test['features'], test['labels']"
      ],
      "execution_count": 0,
      "outputs": []
    },
    {
      "cell_type": "code",
      "metadata": {
        "id": "evk0glak5k3l",
        "colab_type": "code",
        "colab": {}
      },
      "source": [
        "if y_train.ndim == 1: y_train = to_categorical(y_train)\n",
        "if y_test.ndim == 1: y_test = to_categorical(y_test)"
      ],
      "execution_count": 0,
      "outputs": []
    },
    {
      "cell_type": "code",
      "metadata": {
        "id": "Tp9V6TWR6yP0",
        "colab_type": "code",
        "colab": {}
      },
      "source": [
        "input_shape = X_train.shape[1:]\n",
        "num_classes = y_train.shape[1]"
      ],
      "execution_count": 0,
      "outputs": []
    },
    {
      "cell_type": "code",
      "metadata": {
        "id": "nNuwv8Dw6a7I",
        "colab_type": "code",
        "outputId": "5775f1bc-efb6-45f0-b39e-b249f37a83c1",
        "colab": {
          "base_uri": "https://localhost:8080/",
          "height": 269
        }
      },
      "source": [
        "model = Sequential([\n",
        "  Conv2D(filters=64, kernel_size=(3,3), activation='relu', input_shape=input_shape),\n",
        "  Flatten(),\n",
        "  Dense(num_classes, activation='softmax')   \n",
        "])\n",
        "model.summary()"
      ],
      "execution_count": 0,
      "outputs": [
        {
          "output_type": "stream",
          "text": [
            "Model: \"sequential\"\n",
            "_________________________________________________________________\n",
            "Layer (type)                 Output Shape              Param #   \n",
            "=================================================================\n",
            "conv2d (Conv2D)              (None, 30, 30, 64)        1792      \n",
            "_________________________________________________________________\n",
            "flatten (Flatten)            (None, 57600)             0         \n",
            "_________________________________________________________________\n",
            "dense (Dense)                (None, 43)                2476843   \n",
            "=================================================================\n",
            "Total params: 2,478,635\n",
            "Trainable params: 2,478,635\n",
            "Non-trainable params: 0\n",
            "_________________________________________________________________\n"
          ],
          "name": "stdout"
        }
      ]
    },
    {
      "cell_type": "code",
      "metadata": {
        "id": "H8XGDAkz7Uer",
        "colab_type": "code",
        "outputId": "ccfd5b5c-f910-45a6-9a79-0fc60c635599",
        "colab": {
          "base_uri": "https://localhost:8080/",
          "height": 53
        }
      },
      "source": [
        "model.compile(loss='categorical_crossentropy',\n",
        "              optimizer='Adam',\n",
        "              metrics=['accuracy'])\n",
        "model.fit(X_train, y_train)"
      ],
      "execution_count": 0,
      "outputs": [
        {
          "output_type": "stream",
          "text": [
            "1088/1088 [==============================] - 4s 3ms/step - loss: 9.1727 - accuracy: 0.7703\n"
          ],
          "name": "stdout"
        },
        {
          "output_type": "execute_result",
          "data": {
            "text/plain": [
              "<tensorflow.python.keras.callbacks.History at 0x7f4e70328400>"
            ]
          },
          "metadata": {
            "tags": []
          },
          "execution_count": 8
        }
      ]
    },
    {
      "cell_type": "code",
      "metadata": {
        "id": "J6MSzi0k8naL",
        "colab_type": "code",
        "colab": {}
      },
      "source": [
        "def get_cnn_v1(input_shape, num_classes):\n",
        "  return Sequential([\n",
        "  Conv2D(filters=64, kernel_size=(3,3), activation='relu', input_shape=input_shape),\n",
        "  Flatten(),\n",
        "  Dense(num_classes, activation='softmax')   \n",
        "  ])\n",
        "  \n",
        "def train_model(model, X_train, y_train, params_fit={}):\n",
        "  model.compile(loss='categorical_crossentropy',\n",
        "                optimizer='Adam',\n",
        "                metrics=['accuracy'])\n",
        "  \n",
        "  logdir = os.path.join(\"logs\", datetime.datetime.now().strftime(\"%Y%m%d-%H%M%S\"))\n",
        "  tensorboard_callback = tf.keras.callbacks.TensorBoard(logdir, histogram_freq=1)\n",
        "\n",
        "  model.fit(\n",
        "      X_train,\n",
        "      y_train,\n",
        "      batch_size = params_fit.get('batch_size', 128),\n",
        "      epochs=params_fit.get('epochs',5),\n",
        "      verbose = params_fit.get('verbose',1),\n",
        "      validation_data = params_fit.get('validation_data', (X_train, y_train)),\n",
        "      callbacks = [tensorboard_callback]\n",
        "      )\n",
        "  return model"
      ],
      "execution_count": 0,
      "outputs": []
    },
    {
      "cell_type": "code",
      "metadata": {
        "id": "ME2o0nHW_BWc",
        "colab_type": "code",
        "outputId": "4ea49a33-d5eb-4f43-a35a-b32b3539f2af",
        "colab": {
          "base_uri": "https://localhost:8080/",
          "height": 197
        }
      },
      "source": [
        "model = get_cnn_v1(input_shape, num_classes)\n",
        "model_trained = train_model(model, X_train, y_train)"
      ],
      "execution_count": 0,
      "outputs": [
        {
          "output_type": "stream",
          "text": [
            "Epoch 1/5\n",
            "272/272 [==============================] - 3s 12ms/step - loss: 34.8054 - accuracy: 0.7733 - val_loss: 0.1878 - val_accuracy: 0.9564\n",
            "Epoch 2/5\n",
            "272/272 [==============================] - 3s 11ms/step - loss: 0.1879 - accuracy: 0.9590 - val_loss: 0.1147 - val_accuracy: 0.9773\n",
            "Epoch 3/5\n",
            "272/272 [==============================] - 3s 11ms/step - loss: 0.1304 - accuracy: 0.9723 - val_loss: 0.0797 - val_accuracy: 0.9827\n",
            "Epoch 4/5\n",
            "272/272 [==============================] - 3s 11ms/step - loss: 0.1013 - accuracy: 0.9778 - val_loss: 0.0999 - val_accuracy: 0.9785\n",
            "Epoch 5/5\n",
            "272/272 [==============================] - 3s 11ms/step - loss: 0.1177 - accuracy: 0.9746 - val_loss: 0.0651 - val_accuracy: 0.9866\n"
          ],
          "name": "stdout"
        }
      ]
    },
    {
      "cell_type": "code",
      "metadata": {
        "id": "SLdIqKK73E1E",
        "colab_type": "code",
        "colab": {}
      },
      "source": [
        "def predict(model_trained, X_test, y_test, scoring=accuracy_score):\n",
        "  y_test_norm = np.argmax(y_test, axis=1)\n",
        "  y_pred_prob = model_trained.predict(X_test)\n",
        "  y_pred = np.argmax(y_pred_prob, axis=1)\n",
        "  \n",
        "  return scoring(y_test_norm, y_pred)"
      ],
      "execution_count": 0,
      "outputs": []
    },
    {
      "cell_type": "code",
      "metadata": {
        "id": "I1jmEyJ26wfp",
        "colab_type": "code",
        "outputId": "1d86d0ce-c077-478a-99a4-57e371d369eb",
        "colab": {
          "base_uri": "https://localhost:8080/",
          "height": 35
        }
      },
      "source": [
        "predict(model_trained, X_test, y_test)"
      ],
      "execution_count": 0,
      "outputs": [
        {
          "output_type": "execute_result",
          "data": {
            "text/plain": [
              "0.8430839002267574"
            ]
          },
          "metadata": {
            "tags": []
          },
          "execution_count": 37
        }
      ]
    },
    {
      "cell_type": "code",
      "metadata": {
        "id": "XPeswElp72xM",
        "colab_type": "code",
        "colab": {}
      },
      "source": [
        "def train_and_predict(model): \n",
        "  model_trained = train_model(model, X_train, y_train)\n",
        "  return predict(model_trained, X_test, y_test)"
      ],
      "execution_count": 0,
      "outputs": []
    },
    {
      "cell_type": "code",
      "metadata": {
        "id": "ETCwmKWm7MLl",
        "colab_type": "code",
        "outputId": "a3f1c795-e409-4108-b8f7-ee1643501701",
        "colab": {
          "base_uri": "https://localhost:8080/",
          "height": 215
        }
      },
      "source": [
        "def get_cnn_v2(input_shape, num_classes):\n",
        "  return Sequential([\n",
        "  Conv2D(filters=32, kernel_size=(3,3), activation='relu', input_shape=input_shape),\n",
        "  MaxPool2D(),\n",
        "  Dropout(0.3),\n",
        "  \n",
        "  Conv2D(filters=64, kernel_size=(3,3), activation='relu'),\n",
        "  MaxPool2D(),\n",
        "  Dropout(0.3),\n",
        "\n",
        "  Flatten(),\n",
        "  Dense(1024, activation='relu') ,\n",
        "  Dropout(0.3),\n",
        "  \n",
        "  Dense(num_classes, activation='softmax') \n",
        "\n",
        "  ])\n",
        "\n",
        "train_and_predict(get_cnn_v2(input_shape, num_classes))"
      ],
      "execution_count": 0,
      "outputs": [
        {
          "output_type": "stream",
          "text": [
            "Epoch 1/5\n",
            "272/272 [==============================] - 3s 11ms/step - loss: 5.7123 - accuracy: 0.2441 - val_loss: 1.6843 - val_accuracy: 0.5522\n",
            "Epoch 2/5\n",
            "272/272 [==============================] - 3s 10ms/step - loss: 1.4438 - accuracy: 0.5723 - val_loss: 0.6692 - val_accuracy: 0.8319\n",
            "Epoch 3/5\n",
            "272/272 [==============================] - 3s 10ms/step - loss: 0.7648 - accuracy: 0.7675 - val_loss: 0.2399 - val_accuracy: 0.9484\n",
            "Epoch 4/5\n",
            "272/272 [==============================] - 3s 10ms/step - loss: 0.4478 - accuracy: 0.8649 - val_loss: 0.1333 - val_accuracy: 0.9729\n",
            "Epoch 5/5\n",
            "272/272 [==============================] - 3s 10ms/step - loss: 0.3132 - accuracy: 0.9050 - val_loss: 0.0933 - val_accuracy: 0.9821\n"
          ],
          "name": "stdout"
        },
        {
          "output_type": "execute_result",
          "data": {
            "text/plain": [
              "0.8979591836734694"
            ]
          },
          "metadata": {
            "tags": []
          },
          "execution_count": 42
        }
      ]
    },
    {
      "cell_type": "code",
      "metadata": {
        "id": "vyCOQagF7MRs",
        "colab_type": "code",
        "outputId": "d74e211c-1387-46e7-bf8e-d9b253ed09d7",
        "colab": {
          "base_uri": "https://localhost:8080/",
          "height": 215
        }
      },
      "source": [
        "def get_cnn_v3(input_shape, num_classes):\n",
        "  return Sequential([\n",
        "  Conv2D(filters=32, kernel_size=(3,3), activation='relu', input_shape=input_shape),\n",
        "  Conv2D(filters=32, kernel_size=(3,3), activation='relu'),\n",
        "  MaxPool2D(),\n",
        "  Dropout(0.3),\n",
        "  \n",
        "  Conv2D(filters=64, kernel_size=(3,3), activation='relu'),\n",
        "  Conv2D(filters=64, kernel_size=(3,3), activation='relu'),\n",
        "  MaxPool2D(),\n",
        "  Dropout(0.3),\n",
        "\n",
        "  Flatten(),\n",
        "  Dense(1024, activation='relu') ,\n",
        "  Dropout(0.3),\n",
        "  \n",
        "  Dense(num_classes, activation='softmax') \n",
        "\n",
        "  ])\n",
        "\n",
        "train_and_predict(get_cnn_v3(input_shape, num_classes))"
      ],
      "execution_count": 0,
      "outputs": [
        {
          "output_type": "stream",
          "text": [
            "Epoch 1/5\n",
            "272/272 [==============================] - 4s 16ms/step - loss: 2.0407 - accuracy: 0.5467 - val_loss: 0.3115 - val_accuracy: 0.9209\n",
            "Epoch 2/5\n",
            "272/272 [==============================] - 4s 15ms/step - loss: 0.4394 - accuracy: 0.8701 - val_loss: 0.0984 - val_accuracy: 0.9797\n",
            "Epoch 3/5\n",
            "272/272 [==============================] - 4s 15ms/step - loss: 0.2520 - accuracy: 0.9273 - val_loss: 0.0583 - val_accuracy: 0.9881\n",
            "Epoch 4/5\n",
            "272/272 [==============================] - 4s 15ms/step - loss: 0.1700 - accuracy: 0.9499 - val_loss: 0.0304 - val_accuracy: 0.9931\n",
            "Epoch 5/5\n",
            "272/272 [==============================] - 4s 15ms/step - loss: 0.1455 - accuracy: 0.9574 - val_loss: 0.0249 - val_accuracy: 0.9931\n"
          ],
          "name": "stdout"
        },
        {
          "output_type": "execute_result",
          "data": {
            "text/plain": [
              "0.9625850340136054"
            ]
          },
          "metadata": {
            "tags": []
          },
          "execution_count": 44
        }
      ]
    },
    {
      "cell_type": "code",
      "metadata": {
        "id": "T_A1gsHx7MWU",
        "colab_type": "code",
        "outputId": "90f9cac9-c867-4bb8-b553-e5e76de80389",
        "colab": {
          "base_uri": "https://localhost:8080/",
          "height": 215
        }
      },
      "source": [
        "def get_cnn_v4(input_shape, num_classes):\n",
        "  return Sequential([\n",
        "  Conv2D(filters=32, kernel_size=(3,3), activation='relu', input_shape=input_shape),\n",
        "  Conv2D(filters=32, kernel_size=(3,3), activation='relu', padding='same'),\n",
        "  MaxPool2D(),\n",
        "  Dropout(0.3),\n",
        "  \n",
        "  Conv2D(filters=64, kernel_size=(3,3), activation='relu', padding='same'),\n",
        "  Conv2D(filters=64, kernel_size=(3,3), activation='relu'),\n",
        "  MaxPool2D(),\n",
        "  Dropout(0.3),\n",
        "\n",
        "  Conv2D(filters=64, kernel_size=(3,3), activation='relu', padding='same'),\n",
        "  Conv2D(filters=64, kernel_size=(3,3), activation='relu'),\n",
        "  MaxPool2D(),\n",
        "  Dropout(0.3),\n",
        "\n",
        "  Flatten(),\n",
        "  Dense(1024, activation='relu') ,\n",
        "  Dropout(0.3),\n",
        "  \n",
        "  Dense(num_classes, activation='softmax') \n",
        "\n",
        "  ])\n",
        "\n",
        "train_and_predict(get_cnn_v4(input_shape, num_classes))"
      ],
      "execution_count": 0,
      "outputs": [
        {
          "output_type": "stream",
          "text": [
            "Epoch 1/5\n",
            "272/272 [==============================] - 5s 19ms/step - loss: 2.2846 - accuracy: 0.3878 - val_loss: 0.5867 - val_accuracy: 0.8443\n",
            "Epoch 2/5\n",
            "272/272 [==============================] - 5s 17ms/step - loss: 0.6084 - accuracy: 0.8160 - val_loss: 0.1364 - val_accuracy: 0.9637\n",
            "Epoch 3/5\n",
            "272/272 [==============================] - 5s 17ms/step - loss: 0.3118 - accuracy: 0.9079 - val_loss: 0.0825 - val_accuracy: 0.9772\n",
            "Epoch 4/5\n",
            "272/272 [==============================] - 5s 17ms/step - loss: 0.2114 - accuracy: 0.9384 - val_loss: 0.0802 - val_accuracy: 0.9792\n",
            "Epoch 5/5\n",
            "272/272 [==============================] - 5s 17ms/step - loss: 0.1742 - accuracy: 0.9480 - val_loss: 0.0395 - val_accuracy: 0.9879\n"
          ],
          "name": "stdout"
        },
        {
          "output_type": "execute_result",
          "data": {
            "text/plain": [
              "0.9585034013605442"
            ]
          },
          "metadata": {
            "tags": []
          },
          "execution_count": 45
        }
      ]
    },
    {
      "cell_type": "code",
      "metadata": {
        "id": "Gb6d2qaI7MPl",
        "colab_type": "code",
        "outputId": "41ebb5b0-7685-4cd1-9baa-c1e0d8fe9e7f",
        "colab": {
          "base_uri": "https://localhost:8080/",
          "height": 215
        }
      },
      "source": [
        "def get_cnn_v5(input_shape, num_classes):\n",
        "  return Sequential([\n",
        "  Conv2D(filters=32, kernel_size=(3,3), activation='relu', input_shape=input_shape),\n",
        "  Conv2D(filters=32, kernel_size=(3,3), activation='relu', padding='same'),\n",
        "  MaxPool2D(),\n",
        "  Dropout(0.3),\n",
        "  \n",
        "  Conv2D(filters=64, kernel_size=(3,3), activation='relu', padding='same'),\n",
        "  Conv2D(filters=64, kernel_size=(3,3), activation='relu'),\n",
        "  MaxPool2D(),\n",
        "  Dropout(0.3),\n",
        "\n",
        "  Conv2D(filters=64, kernel_size=(3,3), activation='relu', padding='same'),\n",
        "  Conv2D(filters=64, kernel_size=(3,3), activation='relu'),\n",
        "  MaxPool2D(),\n",
        "  Dropout(0.3),\n",
        "\n",
        "  Flatten(),\n",
        "  Dense(1024, activation='relu') ,\n",
        "  Dropout(0.3),\n",
        "  \n",
        "  Dense(1024, activation='relu') ,\n",
        "  Dropout(0.3),\n",
        "\n",
        "  Dense(num_classes, activation='softmax') \n",
        "\n",
        "  ])\n",
        "\n",
        "train_and_predict(get_cnn_v5(input_shape, num_classes))"
      ],
      "execution_count": 0,
      "outputs": [
        {
          "output_type": "stream",
          "text": [
            "Epoch 1/5\n",
            "272/272 [==============================] - 5s 19ms/step - loss: 3.0385 - accuracy: 0.2124 - val_loss: 1.3361 - val_accuracy: 0.5723\n",
            "Epoch 2/5\n",
            "272/272 [==============================] - 5s 17ms/step - loss: 1.0933 - accuracy: 0.6531 - val_loss: 0.3193 - val_accuracy: 0.9091\n",
            "Epoch 3/5\n",
            "272/272 [==============================] - 5s 18ms/step - loss: 0.4723 - accuracy: 0.8524 - val_loss: 0.1493 - val_accuracy: 0.9557\n",
            "Epoch 4/5\n",
            "272/272 [==============================] - 5s 18ms/step - loss: 0.2904 - accuracy: 0.9109 - val_loss: 0.0552 - val_accuracy: 0.9842\n",
            "Epoch 5/5\n",
            "272/272 [==============================] - 5s 18ms/step - loss: 0.2144 - accuracy: 0.9355 - val_loss: 0.0426 - val_accuracy: 0.9870\n"
          ],
          "name": "stdout"
        },
        {
          "output_type": "execute_result",
          "data": {
            "text/plain": [
              "0.9639455782312926"
            ]
          },
          "metadata": {
            "tags": []
          },
          "execution_count": 46
        }
      ]
    },
    {
      "cell_type": "code",
      "metadata": {
        "id": "hP2AIZEX-C_w",
        "colab_type": "code",
        "colab": {}
      },
      "source": [
        "X_train_gray = color.rgb2gray(X_train).reshape(-1,32,32,1)\n",
        "X_test_gray = color.rgb2gray(X_test).reshape(-1,32,32,1)"
      ],
      "execution_count": 0,
      "outputs": []
    },
    {
      "cell_type": "code",
      "metadata": {
        "id": "cufT-b2O-pIo",
        "colab_type": "code",
        "outputId": "5bdce887-1f4c-4f6c-ab7c-6d8ef60826b2",
        "colab": {
          "base_uri": "https://localhost:8080/",
          "height": 215
        }
      },
      "source": [
        "model = get_cnn_v5((32,32,1), num_classes)\n",
        "model_trained = train_model(model, X_train_gray, y_train, params_fit={})\n",
        "predict(model_trained, X_test_gray, y_test)"
      ],
      "execution_count": 0,
      "outputs": [
        {
          "output_type": "stream",
          "text": [
            "Epoch 1/5\n",
            "272/272 [==============================] - 5s 20ms/step - loss: 2.3952 - accuracy: 0.3185 - val_loss: 0.6121 - val_accuracy: 0.7917\n",
            "Epoch 2/5\n",
            "272/272 [==============================] - 5s 18ms/step - loss: 0.5484 - accuracy: 0.8189 - val_loss: 0.1397 - val_accuracy: 0.9603\n",
            "Epoch 3/5\n",
            "272/272 [==============================] - 5s 18ms/step - loss: 0.2515 - accuracy: 0.9203 - val_loss: 0.0736 - val_accuracy: 0.9784\n",
            "Epoch 4/5\n",
            "272/272 [==============================] - 5s 18ms/step - loss: 0.1563 - accuracy: 0.9497 - val_loss: 0.0346 - val_accuracy: 0.9909\n",
            "Epoch 5/5\n",
            "272/272 [==============================] - 5s 18ms/step - loss: 0.1180 - accuracy: 0.9641 - val_loss: 0.0287 - val_accuracy: 0.9913\n"
          ],
          "name": "stdout"
        },
        {
          "output_type": "execute_result",
          "data": {
            "text/plain": [
              "0.9702947845804989"
            ]
          },
          "metadata": {
            "tags": []
          },
          "execution_count": 54
        }
      ]
    }
  ]
}