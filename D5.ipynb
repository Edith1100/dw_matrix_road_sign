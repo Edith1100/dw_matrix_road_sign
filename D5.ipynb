{
  "nbformat": 4,
  "nbformat_minor": 0,
  "metadata": {
    "colab": {
      "name": "D5.ipynb",
      "provenance": [],
      "mount_file_id": "110MaR_VzPSHy118ul4Sg1lhTDIf24lYl",
      "authorship_tag": "ABX9TyMkHkzROVics6tZ2Rr35R6/",
      "include_colab_link": true
    },
    "kernelspec": {
      "name": "python3",
      "display_name": "Python 3"
    },
    "accelerator": "GPU"
  },
  "cells": [
    {
      "cell_type": "markdown",
      "metadata": {
        "id": "view-in-github",
        "colab_type": "text"
      },
      "source": [
        "<a href=\"https://colab.research.google.com/github/Edith1100/dw_matrix_road_sign/blob/master/D5.ipynb\" target=\"_parent\"><img src=\"https://colab.research.google.com/assets/colab-badge.svg\" alt=\"Open In Colab\"/></a>"
      ]
    },
    {
      "cell_type": "code",
      "metadata": {
        "id": "kZvB5ZwCnI4V",
        "colab_type": "code",
        "colab": {
          "base_uri": "https://localhost:8080/",
          "height": 179
        },
        "outputId": "59d49a44-82fe-4b90-c9d7-cd049f9d4c03"
      },
      "source": [
        "!pip install hyperopt"
      ],
      "execution_count": 1,
      "outputs": [
        {
          "output_type": "stream",
          "text": [
            "Requirement already satisfied: hyperopt in /usr/local/lib/python3.6/dist-packages (0.1.2)\n",
            "Requirement already satisfied: pymongo in /usr/local/lib/python3.6/dist-packages (from hyperopt) (3.10.1)\n",
            "Requirement already satisfied: future in /usr/local/lib/python3.6/dist-packages (from hyperopt) (0.16.0)\n",
            "Requirement already satisfied: networkx in /usr/local/lib/python3.6/dist-packages (from hyperopt) (2.4)\n",
            "Requirement already satisfied: numpy in /usr/local/lib/python3.6/dist-packages (from hyperopt) (1.18.2)\n",
            "Requirement already satisfied: scipy in /usr/local/lib/python3.6/dist-packages (from hyperopt) (1.4.1)\n",
            "Requirement already satisfied: six in /usr/local/lib/python3.6/dist-packages (from hyperopt) (1.12.0)\n",
            "Requirement already satisfied: tqdm in /usr/local/lib/python3.6/dist-packages (from hyperopt) (4.38.0)\n",
            "Requirement already satisfied: decorator>=4.3.0 in /usr/local/lib/python3.6/dist-packages (from networkx->hyperopt) (4.4.2)\n"
          ],
          "name": "stdout"
        }
      ]
    },
    {
      "cell_type": "code",
      "metadata": {
        "id": "brhhvI7wn6Ks",
        "colab_type": "code",
        "colab": {
          "base_uri": "https://localhost:8080/",
          "height": 71
        },
        "outputId": "dc636b34-557f-409c-972a-3ae317b2e08a"
      },
      "source": [
        "import pandas as pd\n",
        "import numpy as np\n",
        "import os\n",
        "import datetime\n",
        "\n",
        "import tensorflow as tf\n",
        "from tensorflow.keras.models import Sequential\n",
        "from tensorflow.keras.layers import Conv2D, MaxPool2D, Dense, Flatten, Dropout\n",
        "\n",
        "from tensorflow.keras.utils import to_categorical\n",
        "\n",
        "%load_ext tensorboard\n",
        "\n",
        "import matplotlib.pyplot as plt\n",
        "from skimage import color, exposure\n",
        "from sklearn.metrics import accuracy_score\n",
        "from hyperopt import hp, STATUS_OK, tpe, Trials, fmin\n"
      ],
      "execution_count": 15,
      "outputs": [
        {
          "output_type": "stream",
          "text": [
            "The tensorboard extension is already loaded. To reload it, use:\n",
            "  %reload_ext tensorboard\n",
            "ERROR! Session/line number was not unique in database. History logging moved to new session 60\n"
          ],
          "name": "stdout"
        }
      ]
    },
    {
      "cell_type": "code",
      "metadata": {
        "id": "s_fhrExjoLef",
        "colab_type": "code",
        "colab": {
          "base_uri": "https://localhost:8080/",
          "height": 35
        },
        "outputId": "e414996a-57ce-4cf8-cbe9-ec82e8e6ceac"
      },
      "source": [
        "cd 'drive/My Drive/Colab Notebooks/matrix/matrix three/dw_matrix_road_sign/'"
      ],
      "execution_count": 4,
      "outputs": [
        {
          "output_type": "stream",
          "text": [
            "/content/drive/My Drive/Colab Notebooks/matrix/matrix three/dw_matrix_road_sign\n"
          ],
          "name": "stdout"
        }
      ]
    },
    {
      "cell_type": "code",
      "metadata": {
        "id": "75rbXc1DoDfx",
        "colab_type": "code",
        "colab": {}
      },
      "source": [
        "train = pd.read_pickle('train.p')\n",
        "test = pd.read_pickle('test.p')\n",
        "\n",
        "X_train, y_train = train['features'], train['labels']\n",
        "X_test, y_test = test['features'], test['labels']"
      ],
      "execution_count": 0,
      "outputs": []
    },
    {
      "cell_type": "code",
      "metadata": {
        "id": "Jz17aWIqoPHE",
        "colab_type": "code",
        "colab": {}
      },
      "source": [
        "if y_train.ndim == 1: y_train = to_categorical(y_train)\n",
        "if y_test.ndim == 1: y_test = to_categorical(y_test)"
      ],
      "execution_count": 0,
      "outputs": []
    },
    {
      "cell_type": "code",
      "metadata": {
        "id": "Pb8pEu6YobeO",
        "colab_type": "code",
        "colab": {}
      },
      "source": [
        "input_shape = X_train.shape[1:]\n",
        "num_classes = y_train.shape[1]"
      ],
      "execution_count": 0,
      "outputs": []
    },
    {
      "cell_type": "code",
      "metadata": {
        "id": "U6eANn24ocxz",
        "colab_type": "code",
        "colab": {}
      },
      "source": [
        "def train_model(model, X_train, y_train, params_fit={}):\n",
        "  model.compile(loss='categorical_crossentropy',\n",
        "                optimizer='Adam',\n",
        "                metrics=['accuracy'])\n",
        "  \n",
        "  logdir = os.path.join(\"logs\", datetime.datetime.now().strftime(\"%Y%m%d-%H%M%S\"))\n",
        "  tensorboard_callback = tf.keras.callbacks.TensorBoard(logdir, histogram_freq=1)\n",
        "\n",
        "  model.fit(\n",
        "      X_train,\n",
        "      y_train,\n",
        "      batch_size = params_fit.get('batch_size', 128),\n",
        "      epochs=params_fit.get('epochs',5),\n",
        "      verbose = params_fit.get('verbose',1),\n",
        "      validation_data = params_fit.get('validation_data', (X_train, y_train)),\n",
        "      callbacks = [tensorboard_callback]\n",
        "      )\n",
        "  return model"
      ],
      "execution_count": 0,
      "outputs": []
    },
    {
      "cell_type": "code",
      "metadata": {
        "id": "U0PO916nojdM",
        "colab_type": "code",
        "colab": {}
      },
      "source": [
        "def predict(model_trained, X_test, y_test, scoring=accuracy_score):\n",
        "  y_test_norm = np.argmax(y_test, axis=1)\n",
        "  y_pred_prob = model_trained.predict(X_test)\n",
        "  y_pred = np.argmax(y_pred_prob, axis=1)\n",
        "  \n",
        "  return scoring(y_test_norm, y_pred)"
      ],
      "execution_count": 0,
      "outputs": []
    },
    {
      "cell_type": "code",
      "metadata": {
        "id": "24WEed8fozg-",
        "colab_type": "code",
        "colab": {}
      },
      "source": [
        "def get_cnn_v5(input_shape, num_classes):\n",
        "  return Sequential([\n",
        "  Conv2D(filters=32, kernel_size=(3,3), activation='relu', input_shape=input_shape),\n",
        "  Conv2D(filters=32, kernel_size=(3,3), activation='relu', padding='same'),\n",
        "  MaxPool2D(),\n",
        "  Dropout(0.3),\n",
        "  \n",
        "  Conv2D(filters=64, kernel_size=(3,3), activation='relu', padding='same'),\n",
        "  Conv2D(filters=64, kernel_size=(3,3), activation='relu'),\n",
        "  MaxPool2D(),\n",
        "  Dropout(0.3),\n",
        "\n",
        "  Conv2D(filters=64, kernel_size=(3,3), activation='relu', padding='same'),\n",
        "  Conv2D(filters=64, kernel_size=(3,3), activation='relu'),\n",
        "  MaxPool2D(),\n",
        "  Dropout(0.3),\n",
        "\n",
        "  Flatten(),\n",
        "  Dense(1024, activation='relu') ,\n",
        "  Dropout(0.3),\n",
        "  \n",
        "  Dense(1024, activation='relu') ,\n",
        "  Dropout(0.3),\n",
        "\n",
        "  Dense(num_classes, activation='softmax') \n",
        "\n",
        "  ])"
      ],
      "execution_count": 0,
      "outputs": []
    },
    {
      "cell_type": "code",
      "metadata": {
        "id": "sDtsu-r9o1Co",
        "colab_type": "code",
        "colab": {
          "base_uri": "https://localhost:8080/",
          "height": 215
        },
        "outputId": "5ab88031-3bfe-41b1-ff66-ee843fb50440"
      },
      "source": [
        "model = get_cnn_v5(input_shape, num_classes)\n",
        "model_trained = train_model(model, X_train, y_train)\n",
        "\n",
        "predict(model_trained, X_test, y_test)"
      ],
      "execution_count": 11,
      "outputs": [
        {
          "output_type": "stream",
          "text": [
            "Epoch 1/5\n",
            "272/272 [==============================] - 6s 24ms/step - loss: 2.5949 - accuracy: 0.2910 - val_loss: 1.0773 - val_accuracy: 0.6707\n",
            "Epoch 2/5\n",
            "272/272 [==============================] - 6s 22ms/step - loss: 0.8306 - accuracy: 0.7302 - val_loss: 0.1996 - val_accuracy: 0.9374\n",
            "Epoch 3/5\n",
            "272/272 [==============================] - 6s 22ms/step - loss: 0.3566 - accuracy: 0.8897 - val_loss: 0.1128 - val_accuracy: 0.9713\n",
            "Epoch 4/5\n",
            "272/272 [==============================] - 6s 22ms/step - loss: 0.2171 - accuracy: 0.9340 - val_loss: 0.0480 - val_accuracy: 0.9854\n",
            "Epoch 5/5\n",
            "272/272 [==============================] - 6s 22ms/step - loss: 0.1668 - accuracy: 0.9511 - val_loss: 0.0302 - val_accuracy: 0.9915\n"
          ],
          "name": "stdout"
        },
        {
          "output_type": "execute_result",
          "data": {
            "text/plain": [
              "0.973015873015873"
            ]
          },
          "metadata": {
            "tags": []
          },
          "execution_count": 11
        }
      ]
    },
    {
      "cell_type": "code",
      "metadata": {
        "id": "qSiltxd3p0ME",
        "colab_type": "code",
        "colab": {
          "base_uri": "https://localhost:8080/",
          "height": 53
        },
        "outputId": "aaa58dc3-8f02-4406-b6d9-66c409e41297"
      },
      "source": [
        "model_trained.evaluate(X_test, y_test)"
      ],
      "execution_count": 12,
      "outputs": [
        {
          "output_type": "stream",
          "text": [
            "138/138 [==============================] - 0s 3ms/step - loss: 0.0903 - accuracy: 0.9730\n"
          ],
          "name": "stdout"
        },
        {
          "output_type": "execute_result",
          "data": {
            "text/plain": [
              "[0.09027792513370514, 0.9730158448219299]"
            ]
          },
          "metadata": {
            "tags": []
          },
          "execution_count": 12
        }
      ]
    },
    {
      "cell_type": "code",
      "metadata": {
        "id": "7durl_snrobz",
        "colab_type": "code",
        "colab": {}
      },
      "source": [
        "def get_model(params):\n",
        "  return Sequential([\n",
        "  Conv2D(filters=32, kernel_size=(3,3), activation='relu', input_shape=input_shape),\n",
        "  Conv2D(filters=32, kernel_size=(3,3), activation='relu', padding='same'),\n",
        "  Conv2D(filters=32, kernel_size=(3,3), activation='relu', padding='same'),\n",
        "  MaxPool2D(),\n",
        "  Dropout(params['dropout_cnn_block_one']),\n",
        "  \n",
        "  Conv2D(filters=64, kernel_size=(3,3), activation='relu', padding='same'),\n",
        "  Conv2D(filters=64, kernel_size=(3,3), activation='relu', padding='same'),\n",
        "  Conv2D(filters=64, kernel_size=(3,3), activation='relu'),\n",
        "  MaxPool2D(),\n",
        "  Dropout(params['dropout_cnn_block_two']),\n",
        "\n",
        "  Conv2D(filters=128, kernel_size=(3,3), activation='relu', padding='same'),\n",
        "  Conv2D(filters=128, kernel_size=(3,3), activation='relu', padding='same'),\n",
        "  Conv2D(filters=128, kernel_size=(3,3), activation='relu'),\n",
        "  MaxPool2D(),\n",
        "  Dropout(params['dropout_cnn_block_three']),\n",
        "\n",
        "  Flatten(),\n",
        "  Dense(1024, activation='relu') ,\n",
        "  Dropout(params['dropout_dense_block_one']),\n",
        "  \n",
        "  Dense(1024, activation='relu') ,\n",
        "  Dropout(params['dropout_dense_block_two']),\n",
        "\n",
        "  Dense(num_classes, activation='softmax') \n",
        "\n",
        "  ])"
      ],
      "execution_count": 0,
      "outputs": []
    },
    {
      "cell_type": "code",
      "metadata": {
        "id": "1uQHzNEmpTsE",
        "colab_type": "code",
        "colab": {}
      },
      "source": [
        "def func_obj(params):\n",
        "  model = get_model(params)\n",
        "  model.compile(loss='categorical_crossentropy',\n",
        "                optimizer='Adam',\n",
        "                metrics=['accuracy'])\n",
        "\n",
        "  model.fit(\n",
        "      X_train,\n",
        "      y_train,\n",
        "      batch_size = 128,#int(params.get('batch_size', 128)),\n",
        "      epochs=5,\n",
        "      verbose = 0\n",
        "      )\n",
        "  \n",
        "  score = model.evaluate(X_test, y_test, verbose=0)\n",
        "  accuracy = score[1]\n",
        "  print(params, 'accuracy={}'.format(accuracy))\n",
        "\n",
        "  return {'loss': -accuracy,\n",
        "          'status' : STATUS_OK,\n",
        "          'model': model}"
      ],
      "execution_count": 0,
      "outputs": []
    },
    {
      "cell_type": "code",
      "metadata": {
        "id": "uPfHVT0-qYT_",
        "colab_type": "code",
        "colab": {
          "base_uri": "https://localhost:8080/",
          "height": 1000
        },
        "outputId": "019b201e-f480-4110-adb5-bb7765f8a7ac"
      },
      "source": [
        "space ={\n",
        "    'batch_size': hp.quniform('batch_size', 100, 200,10),\n",
        "\n",
        "    'dropout_cnn_block_one': hp.uniform('dropout_cnn_block_one', 0.3, 0.5),\n",
        "    'dropout_cnn_block_two': hp.uniform('dropout_cnn_block_two', 0.3, 0.5),\n",
        "    'dropout_cnn_block_three': hp.uniform('dropout_cnn_block_three', 0.3, 0.5),\n",
        "\n",
        "    'dropout_dense_block_one': hp.uniform('dropout_dense_block_one', 0.3, 0.7),\n",
        "    'dropout_dense_block_two': hp.uniform('dropout_dense_block_two', 0.3, 0.7)\n",
        "}\n",
        "\n",
        "best = fmin(\n",
        "    func_obj,\n",
        "    space,\n",
        "    tpe.suggest,\n",
        "    30,\n",
        "    Trials()\n",
        ")"
      ],
      "execution_count": 36,
      "outputs": [
        {
          "output_type": "stream",
          "text": [
            "{'batch_size': 130.0, 'dropout_cnn_block_one': 0.42467861142516283, 'dropout_cnn_block_three': 0.46994952570830395, 'dropout_cnn_block_two': 0.3135399089512582, 'dropout_dense_block_one': 0.32451860928685156, 'dropout_dense_block_two': 0.38252363233393827}\n",
            "accuracy=0.978458046913147\n",
            "{'batch_size': 190.0, 'dropout_cnn_block_one': 0.33540957380464304, 'dropout_cnn_block_three': 0.33054909530125653, 'dropout_cnn_block_two': 0.36487002903179616, 'dropout_dense_block_one': 0.6884470699483072, 'dropout_dense_block_two': 0.48350183161779914}\n",
            "accuracy=0.9628117680549622\n",
            "{'batch_size': 140.0, 'dropout_cnn_block_one': 0.4055192198191556, 'dropout_cnn_block_three': 0.43284252366723075, 'dropout_cnn_block_two': 0.37601388944946584, 'dropout_dense_block_one': 0.4408758843713416, 'dropout_dense_block_two': 0.49823884610568414}\n",
            "accuracy=0.9684807062149048\n",
            "{'batch_size': 140.0, 'dropout_cnn_block_one': 0.3683958193546462, 'dropout_cnn_block_three': 0.45816206618168853, 'dropout_cnn_block_two': 0.4469992027724961, 'dropout_dense_block_one': 0.6625289957271265, 'dropout_dense_block_two': 0.5593977095957499}\n",
            "accuracy=0.9482993483543396\n",
            "{'batch_size': 120.0, 'dropout_cnn_block_one': 0.32618584963082226, 'dropout_cnn_block_three': 0.3880302225639579, 'dropout_cnn_block_two': 0.48886403532054895, 'dropout_dense_block_one': 0.4742601327931025, 'dropout_dense_block_two': 0.6943423020079249}\n",
            "accuracy=0.9383220076560974\n",
            "{'batch_size': 140.0, 'dropout_cnn_block_one': 0.40271213215172874, 'dropout_cnn_block_three': 0.34787862385209434, 'dropout_cnn_block_two': 0.4150112761858432, 'dropout_dense_block_one': 0.37845347499938, 'dropout_dense_block_two': 0.5415996958129123}\n",
            "accuracy=0.9328798055648804\n",
            "{'batch_size': 200.0, 'dropout_cnn_block_one': 0.34407838898491094, 'dropout_cnn_block_three': 0.30660372036865796, 'dropout_cnn_block_two': 0.3124763342086319, 'dropout_dense_block_one': 0.5250380203661784, 'dropout_dense_block_two': 0.6914430923040671}\n",
            "accuracy=0.9353741407394409\n",
            "{'batch_size': 170.0, 'dropout_cnn_block_one': 0.3312700075022331, 'dropout_cnn_block_three': 0.39010441267743945, 'dropout_cnn_block_two': 0.34856007506096903, 'dropout_dense_block_one': 0.32980438374385884, 'dropout_dense_block_two': 0.3979738541956126}\n",
            "accuracy=0.963718831539154\n",
            "{'batch_size': 140.0, 'dropout_cnn_block_one': 0.43217460731781554, 'dropout_cnn_block_three': 0.374370211117971, 'dropout_cnn_block_two': 0.35021279829446356, 'dropout_dense_block_one': 0.6890773212273726, 'dropout_dense_block_two': 0.3619787891936034}\n",
            "accuracy=0.9528344869613647\n",
            "{'batch_size': 100.0, 'dropout_cnn_block_one': 0.4270003148358853, 'dropout_cnn_block_three': 0.38125007042678927, 'dropout_cnn_block_two': 0.4304478320811793, 'dropout_dense_block_one': 0.5791534720324418, 'dropout_dense_block_two': 0.46318155415191087}\n",
            "accuracy=0.9433106780052185\n",
            "{'batch_size': 190.0, 'dropout_cnn_block_one': 0.3442409129821775, 'dropout_cnn_block_three': 0.3265238994260813, 'dropout_cnn_block_two': 0.4523778238794655, 'dropout_dense_block_one': 0.6601596067214676, 'dropout_dense_block_two': 0.34080080426148546}\n",
            "accuracy=0.9596371650695801\n",
            "{'batch_size': 150.0, 'dropout_cnn_block_one': 0.31483713542572767, 'dropout_cnn_block_three': 0.4601127340639773, 'dropout_cnn_block_two': 0.3610769948773148, 'dropout_dense_block_one': 0.6201812908109042, 'dropout_dense_block_two': 0.6734815166536605}\n",
            "accuracy=0.9639455676078796\n",
            "{'batch_size': 180.0, 'dropout_cnn_block_one': 0.3746647526980989, 'dropout_cnn_block_three': 0.4323545713254644, 'dropout_cnn_block_two': 0.3384717506371342, 'dropout_dense_block_one': 0.3910218735854034, 'dropout_dense_block_two': 0.6262693469995122}\n",
            "accuracy=0.9689342379570007\n",
            "{'batch_size': 180.0, 'dropout_cnn_block_one': 0.46513771941442744, 'dropout_cnn_block_three': 0.33239517494711407, 'dropout_cnn_block_two': 0.3729338216446237, 'dropout_dense_block_one': 0.4062242278703485, 'dropout_dense_block_two': 0.6990031641206589}\n",
            "accuracy=0.9503401517868042\n",
            "{'batch_size': 170.0, 'dropout_cnn_block_one': 0.44855372789346737, 'dropout_cnn_block_three': 0.3497825792035594, 'dropout_cnn_block_two': 0.43605199264976613, 'dropout_dense_block_one': 0.5596942818509025, 'dropout_dense_block_two': 0.4446258977528396}\n",
            "accuracy=0.9453514814376831\n",
            "{'batch_size': 190.0, 'dropout_cnn_block_one': 0.3810190596670279, 'dropout_cnn_block_three': 0.4790397629737307, 'dropout_cnn_block_two': 0.3492830882415614, 'dropout_dense_block_one': 0.5855475928085884, 'dropout_dense_block_two': 0.37933928706450043}\n",
            "accuracy=0.9668934345245361\n",
            "{'batch_size': 160.0, 'dropout_cnn_block_one': 0.3555105433112366, 'dropout_cnn_block_three': 0.4429187442145171, 'dropout_cnn_block_two': 0.4891736882111907, 'dropout_dense_block_one': 0.3305550655007266, 'dropout_dense_block_two': 0.39185685448652197}\n",
            "accuracy=0.9678004384040833\n",
            "{'batch_size': 150.0, 'dropout_cnn_block_one': 0.46542963025097417, 'dropout_cnn_block_three': 0.4550332768568642, 'dropout_cnn_block_two': 0.36128911945626757, 'dropout_dense_block_one': 0.370214833930955, 'dropout_dense_block_two': 0.40210361985649157}\n",
            "accuracy=0.9614512324333191\n",
            "{'batch_size': 130.0, 'dropout_cnn_block_one': 0.35794249951109847, 'dropout_cnn_block_three': 0.39242830687811503, 'dropout_cnn_block_two': 0.4261210144211577, 'dropout_dense_block_one': 0.3251148285496207, 'dropout_dense_block_two': 0.42160932222602915}\n",
            "accuracy=0.9489796161651611\n",
            "{'batch_size': 110.0, 'dropout_cnn_block_one': 0.4233199163160398, 'dropout_cnn_block_three': 0.3777028356610966, 'dropout_cnn_block_two': 0.38646732336601186, 'dropout_dense_block_one': 0.6819109474230289, 'dropout_dense_block_two': 0.4727858250216507}\n",
            "accuracy=0.9609977602958679\n",
            "{'batch_size': 120.0, 'dropout_cnn_block_one': 0.49199753836370047, 'dropout_cnn_block_three': 0.4171161062319461, 'dropout_cnn_block_two': 0.30668485011930025, 'dropout_dense_block_one': 0.4316495849615172, 'dropout_dense_block_two': 0.30473182822242667}\n",
            "accuracy=0.9489796161651611\n",
            "{'batch_size': 160.0, 'dropout_cnn_block_one': 0.3865969052950228, 'dropout_cnn_block_three': 0.49763462185000085, 'dropout_cnn_block_two': 0.3239765555661412, 'dropout_dense_block_one': 0.305239259485699, 'dropout_dense_block_two': 0.6393792463338347}\n",
            "accuracy=0.9639455676078796\n",
            "{'batch_size': 100.0, 'dropout_cnn_block_one': 0.3857728241932137, 'dropout_cnn_block_three': 0.4943908459497237, 'dropout_cnn_block_two': 0.3284167364280795, 'dropout_dense_block_one': 0.3660566177474082, 'dropout_dense_block_two': 0.597732197437302}\n",
            "accuracy=0.9265305995941162\n",
            "{'batch_size': 120.0, 'dropout_cnn_block_one': 0.301000279987807, 'dropout_cnn_block_three': 0.40797637595415, 'dropout_cnn_block_two': 0.3354873447923911, 'dropout_dense_block_one': 0.4913029594333912, 'dropout_dense_block_two': 0.5358621910462237}\n",
            "accuracy=0.9664399027824402\n",
            "{'batch_size': 130.0, 'dropout_cnn_block_one': 0.4146500628596876, 'dropout_cnn_block_three': 0.47837342781555553, 'dropout_cnn_block_two': 0.30149549420804517, 'dropout_dense_block_one': 0.408370777357998, 'dropout_dense_block_two': 0.3112749061521468}\n",
            "accuracy=0.9634920358657837\n",
            "{'batch_size': 160.0, 'dropout_cnn_block_one': 0.49150498100505785, 'dropout_cnn_block_three': 0.4245553403064823, 'dropout_cnn_block_two': 0.3985421189990485, 'dropout_dense_block_one': 0.4571385224340493, 'dropout_dense_block_two': 0.6186417727680082}\n",
            "accuracy=0.9553288221359253\n",
            "{'batch_size': 180.0, 'dropout_cnn_block_one': 0.4401185463863032, 'dropout_cnn_block_three': 0.47830885727041067, 'dropout_cnn_block_two': 0.317044333616794, 'dropout_dense_block_one': 0.30857550339660134, 'dropout_dense_block_two': 0.6532339836434796}\n",
            "accuracy=0.9417233467102051\n",
            "{'batch_size': 110.0, 'dropout_cnn_block_one': 0.45754574902272416, 'dropout_cnn_block_three': 0.4415233351796517, 'dropout_cnn_block_two': 0.3404496311889295, 'dropout_dense_block_one': 0.35070603530975997, 'dropout_dense_block_two': 0.5815438229970414}\n",
            "accuracy=0.9433106780052185\n",
            "{'batch_size': 180.0, 'dropout_cnn_block_one': 0.37184917082209784, 'dropout_cnn_block_three': 0.40503509117191205, 'dropout_cnn_block_two': 0.39766768779406536, 'dropout_dense_block_one': 0.40511706934528313, 'dropout_dense_block_two': 0.5137637718230861}\n",
            "accuracy=0.9546485543251038\n",
            "{'batch_size': 170.0, 'dropout_cnn_block_one': 0.47562448595497586, 'dropout_cnn_block_three': 0.46871591952611563, 'dropout_cnn_block_two': 0.30027365351376956, 'dropout_dense_block_one': 0.5327314255256573, 'dropout_dense_block_two': 0.3309131660931528}\n",
            "accuracy=0.9437641501426697\n",
            "100%|██████████| 30/30 [15:01<00:00, 30.06s/it, best loss: -0.978458046913147]\n"
          ],
          "name": "stdout"
        }
      ]
    }
  ]
}